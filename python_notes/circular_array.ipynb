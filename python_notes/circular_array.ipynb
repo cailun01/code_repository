{
 "cells": [
  {
   "cell_type": "code",
   "execution_count": 12,
   "metadata": {},
   "outputs": [
    {
     "name": "stdout",
     "output_type": "stream",
     "text": [
      "10\n",
      "20\n",
      "30\n",
      "40\n",
      "50\n",
      "10\n",
      "20\n",
      "30\n",
      "40\n",
      "50\n"
     ]
    }
   ],
   "source": [
    "\"\"\"想要让array具备环形属性，即访问最后一个值后，接下来还要。\n",
    "访问第一个值。可以把索引的范围从[0, n)扩张为[0, 2n)，模拟数组翻倍。\n",
    "再对索引取模 i % n，然后用取模后的数访问数组array。\n",
    "\n",
    "这种方法用于解决leetcode 503\n",
    "\"\"\"\n",
    "def circular_array(array=[10,20,30,40,50]):\n",
    "    n = len(array)\n",
    "    index = 0\n",
    "    for i in range(0, 2 * n):\n",
    "        print(array[i % n])\n",
    "\n",
    "circular_array()"
   ]
  },
  {
   "cell_type": "code",
   "execution_count": null,
   "metadata": {},
   "outputs": [],
   "source": []
  }
 ],
 "metadata": {
  "kernelspec": {
   "display_name": "Python 3",
   "language": "python",
   "name": "python3"
  },
  "language_info": {
   "codemirror_mode": {
    "name": "ipython",
    "version": 3
   },
   "file_extension": ".py",
   "mimetype": "text/x-python",
   "name": "python",
   "nbconvert_exporter": "python",
   "pygments_lexer": "ipython3",
   "version": "3.7.4"
  }
 },
 "nbformat": 4,
 "nbformat_minor": 4
}
