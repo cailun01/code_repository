{
 "cells": [
  {
   "cell_type": "code",
   "execution_count": null,
   "metadata": {},
   "outputs": [],
   "source": [
    "\"\"\"代码来自《深度学习入门：基于Python的理论与实现》，下载地址：https://www.ituring.com.cn/book/1921\n",
    "使用im2col计算卷积。\n",
    "其他资料：\n",
    "https://blog.csdn.net/cjbct/article/details/100749205\n",
    "https://blog.csdn.net/qq_43409114/article/details/105426806\n",
    "\"\"\"\n"
   ]
  },
  {
   "cell_type": "code",
   "execution_count": null,
   "metadata": {},
   "outputs": [],
   "source": [
    "import numpy as np\n",
    "def im2col(input_data, filter_h, filter_w, stride=1, pad=0):\n",
    "    N, C, H, W = input_data.shape\n",
    "    out_h = (H + 2*pad - filter_h)//stride + 1\n",
    "    out_w = (W + 2*pad - filter_w)//stride + 1\n",
    "\n",
    "    img = np.pad(input_data, [(0,0), (0,0), (pad, pad), (pad, pad)], 'constant')\n",
    "    col = np.zeros((N, C, filter_h, filter_w, out_h, out_w))\n",
    "\n",
    "    for y in range(filter_h):\n",
    "        y_max = y + stride*out_h\n",
    "        for x in range(filter_w):\n",
    "            x_max = x + stride*out_w\n",
    "            col[:, :, y, x, :, :] = img[:, :, y:y_max:stride, x:x_max:stride]\n",
    "            print(col)\n",
    "    # reshpe函数会使每行中，就存储一次卷积所需要所有值，即C*filter_h*filter_w\n",
    "    col = col.transpose(0, 4, 5, 1, 2, 3).reshape(N*out_h*out_w, -1)\n",
    "    return col"
   ]
  },
  {
   "cell_type": "code",
   "execution_count": null,
   "metadata": {},
   "outputs": [],
   "source": [
    "def conv2d(input, kernel, stride=1, pad=0):\n",
    "    N, C, H, W = input.shape\n",
    "    FN, C, FH, FW = kernel.shape\n",
    "    out_h = (H + 2 * pad - FH) // stride + 1\n",
    "    out_w = (W + 2 * pad - FW) // stride + 1\n",
    "    col = im2col(input, FH, FW, stride, pad)\n",
    "    col_kernel = kernel.reshape(FN, -1).T\n",
    "    out = np.dot(col, col_kernel)\n",
    "    out = out.reshape(N, out_h, out_w, -1).transpose(0, 3, 1, 2)\n",
    "    return out"
   ]
  },
  {
   "cell_type": "code",
   "execution_count": null,
   "metadata": {},
   "outputs": [],
   "source": [
    "input_data = np.arange(9).reshape(1, 1, 3, 3)\n",
    "filter_h = 2\n",
    "filter_w = 2\n",
    "output = im2col(input_data, filter_h, filter_w)"
   ]
  }
 ],
 "metadata": {
  "kernelspec": {
   "name": "python3",
   "display_name": "Python 3.7.0 64-bit ('base': conda)"
  },
  "language_info": {
   "codemirror_mode": {
    "name": "ipython",
    "version": 3
   },
   "file_extension": ".py",
   "mimetype": "text/x-python",
   "name": "python",
   "nbconvert_exporter": "python",
   "pygments_lexer": "ipython3",
   "version": "3.7.0"
  },
  "interpreter": {
   "hash": "a8f61be024eba58adef938c9aa1e29e02cb3dece83a5348b1a2dafd16a070453"
  }
 },
 "nbformat": 4,
 "nbformat_minor": 2
}