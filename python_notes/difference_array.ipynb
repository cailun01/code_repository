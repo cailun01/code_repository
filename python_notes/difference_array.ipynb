{
 "cells": [
  {
   "cell_type": "code",
   "execution_count": 1,
   "metadata": {},
   "outputs": [
    {
     "data": {
      "text/plain": [
       "'\\n差分数组\\n差分数组的主要适用场景是频繁对原始数组的某个区间的元素进行增减。\\n\\n比如说，我给你输入一个数组nums，然后又要求给区间nums[2..6]全部加 1，再给nums[3..9]全部减 3，再给nums[0..4]全部加 2，再给…\\n\\n我们先对nums数组构造一个diff差分数组，diff[i]就是nums[i]和nums[i-1]之差：\\n\\nint[] diff = new int[nums.length];\\n// 构造差分数组\\ndiff[0] = nums[0];\\nfor (int i = 1; i < nums.length; i++) {\\n    diff[i] = nums[i] - nums[i - 1];\\n}\\n\\n通过这个diff差分数组是可以反推出原始数组nums的，代码逻辑如下：\\n\\nint[] res = new int[diff.length];\\n// 根据差分数组构造结果数组\\nres[0] = diff[0];\\nfor (int i = 1; i < diff.length; i++) {\\n    res[i] = res[i - 1] + diff[i];\\n}\\n\\n这样构造差分数组diff，就可以快速进行区间增减的操作，\\n如果你想对区间nums[i..j]的元素全部加 3，那么只需要让diff[i] += 3，然后再让diff[j+1] -= 3\\n\\n原理很简单，回想diff数组反推nums数组的过程，diff[i] += 3意味着给nums[i..]所有的元素都加了 3，\\n然后diff[j+1] -= 3又意味着对于nums[j+1..]所有元素再减 3，那综合起来，是不是就是对nums[i..j]中的所有元素都加 3 了？\\n\\n只要花费 O(1) 的时间修改diff数组，就相当于给nums的整个区间做了修改。多次修改diff，然后通过diff数组反推，即可得到nums修改后的结果。\\n'"
      ]
     },
     "execution_count": 1,
     "metadata": {},
     "output_type": "execute_result"
    }
   ],
   "source": [
    "\"\"\"\n",
    "差分数组\n",
    "差分数组的主要适用场景是频繁对原始数组的某个区间的元素进行增减。\n",
    "\n",
    "比如说，我给你输入一个数组nums，然后又要求给区间nums[2..6]全部加 1，再给nums[3..9]全部减 3，再给nums[0..4]全部加 2，再给…\n",
    "\n",
    "我们先对nums数组构造一个diff差分数组，diff[i]就是nums[i]和nums[i-1]之差：\n",
    "\n",
    "int[] diff = new int[nums.length];\n",
    "// 构造差分数组\n",
    "diff[0] = nums[0];\n",
    "for (int i = 1; i < nums.length; i++) {\n",
    "    diff[i] = nums[i] - nums[i - 1];\n",
    "}\n",
    "\n",
    "通过这个diff差分数组是可以反推出原始数组nums的，代码逻辑如下：\n",
    "\n",
    "int[] res = new int[diff.length];\n",
    "// 根据差分数组构造结果数组\n",
    "res[0] = diff[0];\n",
    "for (int i = 1; i < diff.length; i++) {\n",
    "    res[i] = res[i - 1] + diff[i];\n",
    "}\n",
    "\n",
    "这样构造差分数组diff，就可以快速进行区间增减的操作，\n",
    "如果你想对区间nums[i..j]的元素全部加 3，那么只需要让diff[i] += 3，然后再让diff[j+1] -= 3\n",
    "\n",
    "原理很简单，回想diff数组反推nums数组的过程，diff[i] += 3意味着给nums[i..]所有的元素都加了 3，\n",
    "然后diff[j+1] -= 3又意味着对于nums[j+1..]所有元素再减 3，那综合起来，是不是就是对nums[i..j]中的所有元素都加 3 了？\n",
    "\n",
    "只要花费 O(1) 的时间修改diff数组，就相当于给nums的整个区间做了修改。多次修改diff，然后通过diff数组反推，即可得到nums修改后的结果。\n",
    "\"\"\""
   ]
  },
  {
   "cell_type": "code",
   "execution_count": 2,
   "metadata": {},
   "outputs": [
    {
     "name": "stdout",
     "output_type": "stream",
     "text": [
      "[8, -6, 4, -3, -2]\n"
     ]
    }
   ],
   "source": [
    "# 创建差分数组diff\n",
    "def create_diff(nums = [8, 2, 6, 3, 1]):\n",
    "    n = len(nums)\n",
    "    diff = [nums[0]]\n",
    "    for i in range(1, n):\n",
    "        diff.append(nums[i] - nums[i - 1])\n",
    "    print(diff) # [8, -6, 4, -3, -2]\n",
    "    return diff\n",
    "    "
   ]
  },
  {
   "cell_type": "code",
   "execution_count": 6,
   "metadata": {},
   "outputs": [
    {
     "name": "stdout",
     "output_type": "stream",
     "text": [
      "[8, 2, 6, 3, 1]\n"
     ]
    },
    {
     "data": {
      "text/plain": [
       "[8, 2, 6, 3, 1]"
      ]
     },
     "execution_count": 6,
     "metadata": {},
     "output_type": "execute_result"
    }
   ],
   "source": [
    "# 用差分数组恢复原数组\n",
    "def restore(diff=[8, -6, 4, -3, -2]):\n",
    "    nums = [diff[0]]\n",
    "    n = len(diff)\n",
    "    for i in range(1, n):\n",
    "        nums.append(diff[i] + nums[i - 1])\n",
    "    print(nums)\n",
    "    return nums\n",
    "restore()"
   ]
  },
  {
   "cell_type": "code",
   "execution_count": null,
   "metadata": {},
   "outputs": [],
   "source": []
  }
 ],
 "metadata": {
  "kernelspec": {
   "display_name": "Python 3",
   "language": "python",
   "name": "python3"
  },
  "language_info": {
   "codemirror_mode": {
    "name": "ipython",
    "version": 3
   },
   "file_extension": ".py",
   "mimetype": "text/x-python",
   "name": "python",
   "nbconvert_exporter": "python",
   "pygments_lexer": "ipython3",
   "version": "3.7.4"
  }
 },
 "nbformat": 4,
 "nbformat_minor": 4
}
