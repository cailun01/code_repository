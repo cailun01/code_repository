{
 "cells": [
  {
   "cell_type": "code",
   "execution_count": 14,
   "metadata": {},
   "outputs": [],
   "source": [
    "import numpy as np\n",
    "def im2col(input_data, filter_h, filter_w, stride=1, pad=0):\n",
    "    N, C, H, W = input_data.shape\n",
    "    out_h = (H + 2*pad - filter_h)//stride + 1\n",
    "    out_w = (W + 2*pad - filter_w)//stride + 1\n",
    "\n",
    "    img = np.pad(input_data, [(0,0), (0,0), (pad, pad), (pad, pad)], 'constant')\n",
    "    col = np.zeros((N, C, filter_h, filter_w, out_h, out_w))\n",
    "\n",
    "    for y in range(filter_h):\n",
    "        y_max = y + stride*out_h\n",
    "        for x in range(filter_w):\n",
    "            x_max = x + stride*out_w\n",
    "            print('img[:, :, y:y_max:stride, x:x_max:stride]:\\n',img[:, :, y:y_max:stride, x:x_max:stride])\n",
    "            col[:, :, y, x, :, :] = img[:, :, y:y_max:stride, x:x_max:stride]\n",
    "            print(\"col[:, :, y, x, :, :]:\\n\", col[:, :, y, x, :, :])\n",
    "    print(\"col.shape:\", col.shape)\n",
    "    col = col.transpose(0, 4, 5, 1, 2, 3).reshape(N*out_h*out_w, -1)\n",
    "    return col"
   ]
  },
  {
   "cell_type": "code",
   "execution_count": 16,
   "metadata": {},
   "outputs": [
    {
     "name": "stdout",
     "output_type": "stream",
     "text": [
      "input_data:\n",
      " [[[[0 1 2]\n",
      "   [3 4 5]\n",
      "   [6 7 8]]]]\n",
      "img[:, :, y:y_max:stride, x:x_max:stride]:\n",
      " [[[[0 1]\n",
      "   [3 4]]]]\n",
      "col[:, :, y, x, :, :]:\n",
      " [[[[0. 1.]\n",
      "   [3. 4.]]]]\n",
      "img[:, :, y:y_max:stride, x:x_max:stride]:\n",
      " [[[[1 2]\n",
      "   [4 5]]]]\n",
      "col[:, :, y, x, :, :]:\n",
      " [[[[1. 2.]\n",
      "   [4. 5.]]]]\n",
      "img[:, :, y:y_max:stride, x:x_max:stride]:\n",
      " [[[[3 4]\n",
      "   [6 7]]]]\n",
      "col[:, :, y, x, :, :]:\n",
      " [[[[3. 4.]\n",
      "   [6. 7.]]]]\n",
      "img[:, :, y:y_max:stride, x:x_max:stride]:\n",
      " [[[[4 5]\n",
      "   [7 8]]]]\n",
      "col[:, :, y, x, :, :]:\n",
      " [[[[4. 5.]\n",
      "   [7. 8.]]]]\n",
      "col.shape: (1, 1, 2, 2, 2, 2)\n",
      "output:\n",
      " [[0. 1. 3. 4.]\n",
      " [1. 2. 4. 5.]\n",
      " [3. 4. 6. 7.]\n",
      " [4. 5. 7. 8.]]\n"
     ]
    }
   ],
   "source": [
    "input_data = np.arange(9).reshape(1, 1, 3, 3)\n",
    "print(\"input_data:\\n\", input_data)\n",
    "filter_h = 2\n",
    "filter_w = 2\n",
    "output = im2col(input_data, filter_h, filter_w)\n",
    "print(\"output:\\n\", output)"
   ]
  },
  {
   "cell_type": "code",
   "execution_count": null,
   "metadata": {},
   "outputs": [],
   "source": []
  }
 ],
 "metadata": {
  "kernelspec": {
   "display_name": "Python 3",
   "language": "python",
   "name": "python3"
  },
  "language_info": {
   "codemirror_mode": {
    "name": "ipython",
    "version": 3
   },
   "file_extension": ".py",
   "mimetype": "text/x-python",
   "name": "python",
   "nbconvert_exporter": "python",
   "pygments_lexer": "ipython3",
   "version": "3.7.0"
  }
 },
 "nbformat": 4,
 "nbformat_minor": 2
}
