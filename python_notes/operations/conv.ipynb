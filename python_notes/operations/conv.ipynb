{
 "cells": [
  {
   "cell_type": "code",
   "execution_count": null,
   "metadata": {},
   "outputs": [],
   "source": [
    "\"\"\"代码来自《深度学习入门：基于Python的理论与实现》，下载地址：https://www.ituring.com.cn/book/1921\n",
    "使用im2col计算卷积。\n",
    "其他资料：\n",
    "https://blog.csdn.net/cjbct/article/details/100749205\n",
    "https://blog.csdn.net/qq_43409114/article/details/105426806\n",
    "\"\"\"\n"
   ]
  },
  {
   "cell_type": "code",
   "execution_count": null,
   "metadata": {},
   "outputs": [],
   "source": [
    "import numpy as np\r\n",
    "def im2col(input_data, filter_h, filter_w, stride=1, pad=0):\r\n",
    "    N, C, H, W = input_data.shape\r\n",
    "    out_h = (H + 2 * pad - filter_h) // stride + 1\r\n",
    "    out_w = (W + 2 * pad - filter_w) // stride + 1\r\n",
    "\r\n",
    "    img = np.pad(input_data, [(0,0), (0,0), (pad, pad), (pad, pad)], 'constant')\r\n",
    "    col = np.zeros((N, C, filter_h, filter_w, out_h, out_w))\r\n",
    "\r\n",
    "    for y in range(filter_h):\r\n",
    "        y_max = y + stride * out_h\r\n",
    "        for x in range(filter_w):\r\n",
    "            x_max = x + stride * out_w\r\n",
    "            col[:, :, y, x, :, :] = img[:, :, y:y_max:stride, x:x_max:stride]\r\n",
    "            print(col)\r\n",
    "    # reshpe函数会使每行中，就存储一次卷积所需要所有值，即C*filter_h*filter_w\r\n",
    "    col = col.transpose(0, 4, 5, 1, 2, 3).reshape(N*out_h*out_w, -1)\r\n",
    "    return col"
   ]
  },
  {
   "cell_type": "code",
   "execution_count": null,
   "metadata": {},
   "outputs": [],
   "source": [
    "def conv2d(input, kernel, stride=1, pad=0):\r\n",
    "    N, C, H, W = input.shape\r\n",
    "    FN, C, FH, FW = kernel.shape\r\n",
    "    out_h = (H + 2 * pad - FH) // stride + 1\r\n",
    "    out_w = (W + 2 * pad - FW) // stride + 1\r\n",
    "    col = im2col(input, FH, FW, stride, pad)\r\n",
    "    col_kernel = kernel.reshape(FN, -1).T\r\n",
    "    out = np.dot(col, col_kernel)\r\n",
    "    out = out.reshape(N, out_h, out_w, -1).transpose(0, 3, 1, 2) # NHWC->NCHW\r\n",
    "    return out"
   ]
  },
  {
   "cell_type": "code",
   "execution_count": null,
   "metadata": {},
   "outputs": [],
   "source": [
    "input_data = np.arange(9).reshape(1, 1, 3, 3)\n",
    "filter_h = 2\n",
    "filter_w = 2\n",
    "output = im2col(input_data, filter_h, filter_w)"
   ]
  }
 ],
 "metadata": {
  "interpreter": {
   "hash": "8859e15cb54c6b47d38b8e893b4ef061e754185dfa85cd994cb4af07021d1c28"
  },
  "kernelspec": {
   "display_name": "Python 3.7.4 64-bit",
   "name": "python3"
  },
  "language_info": {
   "name": "python",
   "version": ""
  }
 },
 "nbformat": 4,
 "nbformat_minor": 2
}