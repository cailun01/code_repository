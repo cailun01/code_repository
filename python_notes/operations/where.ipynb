{
 "cells": [
  {
   "cell_type": "code",
   "execution_count": 43,
   "metadata": {},
   "outputs": [
    {
     "name": "stdout",
     "output_type": "stream",
     "text": [
      "[[0 0]\n",
      " [1 0]]\n"
     ]
    }
   ],
   "source": [
    "import numpy as np\n",
    "\n",
    "\n",
    "def count(input):\n",
    "    num_true = 0\n",
    "    for i in input.flat:\n",
    "        if i: # 不要用if i is True，因为numpy中bool类型与Python默认的bool类型不同\n",
    "            num_true += 1\n",
    "    return num_true\n",
    "    \n",
    "    \n",
    "def where(input):\n",
    "    shape = input.shape\n",
    "    dims = input.ndim\n",
    "    num_true = count(input)\n",
    "    output = np.zeros([num_true, dims], np.int64)\n",
    "    strides = np.zeros([dims], np.int64)\n",
    "    strides[dims - 1] = 1\n",
    "    for i in range(dims - 2, -1, -1):\n",
    "        strides[i] = strides[i + 1] * shape[i + 1]\n",
    "    \n",
    "    found_true = 0\n",
    "    for n in range(input.size):\n",
    "        if input.flatten()[n]:\n",
    "            for i in range(dims):\n",
    "                output[found_true, i] = int(n // strides[i])\n",
    "                n %= strides[i]\n",
    "            found_true += 1\n",
    "    print(\"output:\\n\"output)\n",
    "\n",
    "input = np.array([[True, False], [True, False]])\n",
    "where(input)"
   ]
  },
  {
   "cell_type": "code",
   "execution_count": null,
   "metadata": {},
   "outputs": [],
   "source": []
  }
 ],
 "metadata": {
  "kernelspec": {
   "display_name": "Python 3",
   "language": "python",
   "name": "python3"
  },
  "language_info": {
   "codemirror_mode": {
    "name": "ipython",
    "version": 3
   },
   "file_extension": ".py",
   "mimetype": "text/x-python",
   "name": "python",
   "nbconvert_exporter": "python",
   "pygments_lexer": "ipython3",
   "version": "3.7.4"
  }
 },
 "nbformat": 4,
 "nbformat_minor": 4
}
