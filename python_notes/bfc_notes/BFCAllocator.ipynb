{
 "cells": [
  {
   "cell_type": "code",
   "execution_count": 17,
   "metadata": {},
   "outputs": [],
   "source": [
    "class BFCAllocator(object):\n",
    "    kMinAllocationSize = 256\n",
    "    def __init__(self, total_memory : int, allow_growth=False):\n",
    "        self.kMinAllocationSize = 256\n",
    "        self.memory_limit_ = total_memory\n",
    "        self.curr_region_allocation_bytes_ = self.GetRoundedBytes(total_memory)\n",
    "        self.total_region_allocation_bytes_ = 0\n",
    "    \n",
    "    def GetRoundedBytes(self, num_bytes):\n",
    "        rounded_bytes = ((num_bytes + self.kMinAllocationSize - 1) // self.kMinAllocationSize) * self.kMinAllocationSize\n",
    "        return int(rounded_bytes)\n",
    "\n",
    "    def GetAvailableBytes(self):\n",
    "        available_bytes = self.memory_limit_ - self.total_region_allocation_bytes_\n",
    "        available_bytes = (available_bytes // self.kMinAllocationSize) * self.kMinAllocationSize\n",
    "        return int(available_bytes)\n",
    "    \n",
    "    @property\n",
    "    def total_region_allocation_bytes(self):\n",
    "        return self.total_region_allocation_bytes_\n",
    "    \n",
    "    @property\n",
    "    def curr_region_allocation_bytes(self):\n",
    "        return self.curr_region_allocation_bytes_"
   ]
  },
  {
   "cell_type": "code",
   "execution_count": 18,
   "metadata": {},
   "outputs": [
    {
     "name": "stdout",
     "output_type": "stream",
     "text": [
      "1024\n"
     ]
    }
   ],
   "source": [
    "b1 = BFCAllocator(1025)\n",
    "curr_bytes = b1.curr_region_allocation_bytes # 1280\n",
    "available_bytes = b1.GetAvailableBytes() # 1024"
   ]
  },
  {
   "cell_type": "code",
   "execution_count": null,
   "metadata": {},
   "outputs": [],
   "source": []
  }
 ],
 "metadata": {
  "kernelspec": {
   "display_name": "Python 3",
   "language": "python",
   "name": "python3"
  },
  "language_info": {
   "codemirror_mode": {
    "name": "ipython",
    "version": 3
   },
   "file_extension": ".py",
   "mimetype": "text/x-python",
   "name": "python",
   "nbconvert_exporter": "python",
   "pygments_lexer": "ipython3",
   "version": "3.7.4"
  }
 },
 "nbformat": 4,
 "nbformat_minor": 4
}
