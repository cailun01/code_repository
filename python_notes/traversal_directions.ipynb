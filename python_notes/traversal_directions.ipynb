{
 "cells": [
  {
   "cell_type": "code",
   "execution_count": 1,
   "metadata": {},
   "outputs": [
    {
     "name": "stdout",
     "output_type": "stream",
     "text": [
      "i: 3; j: 4\n",
      "i: 2; j: 3\n",
      "i: 2; j: 4\n",
      "i: 1; j: 2\n",
      "i: 1; j: 3\n",
      "i: 1; j: 4\n",
      "i: 0; j: 1\n",
      "i: 0; j: 2\n",
      "i: 0; j: 3\n",
      "i: 0; j: 4\n"
     ]
    }
   ],
   "source": [
    "\"\"\"二维dp数组，从下到上，从左至右遍历\"\"\"\n",
    "n = 5\n",
    "for i in range(n - 2, -1, -1):\n",
    "    for j in range(i + 1, n, 1):\n",
    "        print(\"i: {}; j: {}\".format(i, j))"
   ]
  },
  {
   "cell_type": "code",
   "execution_count": null,
   "metadata": {},
   "outputs": [],
   "source": []
  }
 ],
 "metadata": {
  "kernelspec": {
   "display_name": "Python 3",
   "language": "python",
   "name": "python3"
  },
  "language_info": {
   "codemirror_mode": {
    "name": "ipython",
    "version": 3
   },
   "file_extension": ".py",
   "mimetype": "text/x-python",
   "name": "python",
   "nbconvert_exporter": "python",
   "pygments_lexer": "ipython3",
   "version": "3.7.4"
  }
 },
 "nbformat": 4,
 "nbformat_minor": 2
}
