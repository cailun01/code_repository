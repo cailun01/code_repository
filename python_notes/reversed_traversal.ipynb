{
 "cells": [
  {
   "cell_type": "code",
   "execution_count": null,
   "metadata": {},
   "outputs": [],
   "source": [
    "\"\"\"二维dp数组，倒着遍历\"\"\"\r\n",
    "\r\n",
    "n = 5\r\n",
    "for i in range(n, -1, -1):\r\n",
    "  for j in range(i + 1, n, 1):\r\n",
    "    print(\"i: \",i, \"j: \", j)"
   ]
  }
 ],
 "metadata": {
  "language_info": {
   "name": "python",
   "nbconvert_exporter": "python"
  },
  "orig_nbformat": 4
 },
 "nbformat": 4,
 "nbformat_minor": 2
}