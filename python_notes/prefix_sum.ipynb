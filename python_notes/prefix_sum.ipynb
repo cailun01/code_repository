{
 "cells": [
  {
   "cell_type": "code",
   "execution_count": 1,
   "metadata": {},
   "outputs": [
    {
     "data": {
      "text/plain": [
       "'前缀和\\n\\nint n = nums.length;\\n// 前缀和数组\\nint[] preSum = new int[n + 1];\\npreSum[0] = 0;\\nfor (int i = 0; i < n; i++)\\n    preSum[i + 1] = preSum[i] + nums[i];\\n    \\nnums:\\n    index     0  1  2  3  4  5\\n    value     3  5  2 -2  4  1\\npreSum:\\n    index  0  1  2  3  4  5  6\\n    value  0  3  8 10  8 12 13\\n\\npreSum[i]就是nums[0..i-1]的和。那么如果我们想求nums[i..j]的和，只需要一步操作preSum[j+1]-preSum[i]即可，而不需要重新去遍历数组了。\\n'"
      ]
     },
     "execution_count": 1,
     "metadata": {},
     "output_type": "execute_result"
    }
   ],
   "source": [
    "\"\"\"前缀和\n",
    "前缀和主要适用的场景是原始数组不会被修改的情况下，频繁查询某个区间的累加和。\n",
    "\n",
    "int n = nums.length;\n",
    "// 前缀和数组\n",
    "int[] preSum = new int[n + 1];\n",
    "preSum[0] = 0;\n",
    "for (int i = 0; i < n; i++)\n",
    "    preSum[i + 1] = preSum[i] + nums[i];\n",
    "    \n",
    "nums:\n",
    "    index     0  1  2  3  4  5\n",
    "    value     3  5  2 -2  4  1\n",
    "preSum:\n",
    "    index  0  1  2  3  4  5  6\n",
    "    value  0  3  8 10  8 12 13\n",
    "\n",
    "preSum[i]就是nums[0..i-1]的和。那么如果我们想求nums[i..j]的和，只需要一步操作preSum[j+1]-preSum[i]即可，而不需要重新去遍历数组了。\n",
    "\"\"\""
   ]
  },
  {
   "cell_type": "code",
   "execution_count": 4,
   "metadata": {},
   "outputs": [
    {
     "name": "stdout",
     "output_type": "stream",
     "text": [
      "[0, 3, 8, 10, 8, 12, 13]\n"
     ]
    }
   ],
   "source": [
    "nums = [3, 5, 2, -2, 4, 1]\n",
    "n = len(nums)\n",
    "preSum = [0]\n",
    "for i in range(n):\n",
    "    preSum.append(preSum[i] + nums[i])\n",
    "print(preSum) # [0, 3, 8, 10, 8, 12, 13]"
   ]
  },
  {
   "cell_type": "code",
   "execution_count": null,
   "metadata": {},
   "outputs": [],
   "source": []
  }
 ],
 "metadata": {
  "kernelspec": {
   "display_name": "Python 3",
   "language": "python",
   "name": "python3"
  },
  "language_info": {
   "codemirror_mode": {
    "name": "ipython",
    "version": 3
   },
   "file_extension": ".py",
   "mimetype": "text/x-python",
   "name": "python",
   "nbconvert_exporter": "python",
   "pygments_lexer": "ipython3",
   "version": "3.7.4"
  }
 },
 "nbformat": 4,
 "nbformat_minor": 4
}
